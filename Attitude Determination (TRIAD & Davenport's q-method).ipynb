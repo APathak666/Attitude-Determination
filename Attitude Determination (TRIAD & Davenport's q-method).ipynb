{
 "cells": [
  {
   "cell_type": "code",
   "execution_count": 83,
   "id": "2b3a6bb2",
   "metadata": {},
   "outputs": [],
   "source": [
    "import numpy as np\n",
    "import math as m\n",
    "import matplotlib.pyplot as plt\n",
    "import random"
   ]
  },
  {
   "cell_type": "code",
   "execution_count": 79,
   "id": "d7456a31",
   "metadata": {},
   "outputs": [],
   "source": [
    "def EA321_to_DCM(phi, theta, psi):\n",
    "\n",
    "    sf = m.sin(phi)\n",
    "    cf = m.cos(phi)\n",
    "    st = m.sin(theta)\n",
    "    ct = m.cos(theta)\n",
    "    ss = m.sin(psi)\n",
    "    cs = m.cos(psi)\n",
    "\n",
    "    return np.array([[ct*cf, ct*sf, -st],\n",
    "                    [ss*st*cf - cs*sf, ss*st*sf + cs*cf, ss*ct],\n",
    "                    [ss*sf + cs*st*cf, -ss*cf + cs*st*sf, cs*ct]])"
   ]
  },
  {
   "cell_type": "code",
   "execution_count": 152,
   "id": "b3ac3ec9",
   "metadata": {},
   "outputs": [],
   "source": [
    "EA321 = np.array([30, 20, -10])*np.pi/180 #roll, pitch, yaw in radians\n",
    "BN = EA321_to_DCM(EA321[0], EA321[1], EA321[2])\n",
    "\n",
    "sN = np.array([1, 0, 0])\n",
    "mN = np.array([0, 0, 1])\n",
    "\n",
    "sB_true = BN@sN\n",
    "mB_true = BN@mN"
   ]
  },
  {
   "cell_type": "code",
   "execution_count": 153,
   "id": "e1abae34",
   "metadata": {},
   "outputs": [],
   "source": [
    "#adding noise\n",
    "\n",
    "sB_observed = np.array([0, 0, 0])\n",
    "mB_observed = np.array([0, 0, 0])\n",
    "\n",
    "for i in range(3):\n",
    "    sB_observed = sB_true + random.uniform(-0.01, 0.01)\n",
    "    mB_observed = mB_true + random.uniform(-0.01, 0.01)"
   ]
  },
  {
   "cell_type": "markdown",
   "id": "f829edc6",
   "metadata": {},
   "source": [
    "### TRIAD"
   ]
  },
  {
   "cell_type": "code",
   "execution_count": 154,
   "id": "010a497d",
   "metadata": {},
   "outputs": [],
   "source": [
    "t1_B = sB_observed\n",
    "t2_B = np.cross(sB_observed, mB_observed)/np.linalg.norm(np.cross(sB_observed, mB_observed))\n",
    "t3_B = np.cross(t1_B, t2_B)\n",
    "\n",
    "TBbar = np.array([t1_B, t2_B, t3_B])"
   ]
  },
  {
   "cell_type": "code",
   "execution_count": 155,
   "id": "2b631317",
   "metadata": {},
   "outputs": [],
   "source": [
    "t1_N = sN\n",
    "t2_N = np.cross(sN, mN)/np.linalg.norm(np.cross(sN, mN))\n",
    "t3_N = np.cross(t1_N, t2_N)\n",
    "\n",
    "TN = np.array([t1_N, t2_N, t3_N])"
   ]
  },
  {
   "cell_type": "code",
   "execution_count": 128,
   "id": "4cba9b1c",
   "metadata": {
    "scrolled": false
   },
   "outputs": [
    {
     "name": "stdout",
     "output_type": "stream",
     "text": [
      "[[ 0.80779509  0.48182174 -0.33319786]\n",
      " [-0.54984073  0.8197999  -0.15417327]\n",
      " [ 0.19887154  0.30947688  0.92715555]]\n",
      "[[ 0.81379768  0.46984631 -0.34202014]\n",
      " [-0.54383814  0.82317294 -0.16317591]\n",
      " [ 0.20487413  0.31879578  0.92541658]]\n"
     ]
    }
   ],
   "source": [
    "BNbar_TRIAD = TBbar.T@TN\n",
    "print(BNbar_TRIAD)\n",
    "print(BN)"
   ]
  },
  {
   "cell_type": "markdown",
   "id": "6e32b355",
   "metadata": {},
   "source": [
    "### Davenport's q-method"
   ]
  },
  {
   "cell_type": "code",
   "execution_count": 147,
   "id": "e20a672d",
   "metadata": {},
   "outputs": [],
   "source": [
    "def quat2dcm(q):\n",
    "    \"\"\"Convert quaternion to DCM.\n",
    "    Parameters\n",
    "    ----------\n",
    "    q : numpy.array\n",
    "        Quaternion in the form [q0 q1 q2 q3], where q0 is the rotation element.\n",
    "    Returns\n",
    "    -------\n",
    "    dcm : numpy.array\n",
    "        Corresponding direction cosine matrix.\n",
    "    \"\"\"\n",
    "    return np.array(\n",
    "        [\n",
    "            [\n",
    "                q[0] ** 2 + q[1] ** 2 - q[2] ** 2 - q[3] ** 2,\n",
    "                2 * (q[1] * q[2] + q[0] * q[3]),\n",
    "                2 * (q[1] * q[3] - q[0] * q[2]),\n",
    "            ],\n",
    "            [\n",
    "                2 * (q[1] * q[2] - q[0] * q[3]),\n",
    "                q[0] ** 2 - q[1] ** 2 + q[2] ** 2 - q[3] ** 2,\n",
    "                2 * (q[2] * q[3] + q[0] * q[1]),\n",
    "            ],\n",
    "            [\n",
    "                2 * (q[1] * q[3] + q[0] * q[2]),\n",
    "                2 * (q[2] * q[3] - q[0] * q[1]),\n",
    "                q[0] ** 2 - q[1] ** 2 - q[2] ** 2 + q[3] ** 2,\n",
    "            ],\n",
    "        ]\n",
    "    )"
   ]
  },
  {
   "cell_type": "code",
   "execution_count": 149,
   "id": "95f2c24b",
   "metadata": {},
   "outputs": [],
   "source": [
    "v1_N = sN\n",
    "v2_N = mN\n",
    "v1_B = sB_observed\n",
    "v2_B = mB_observed\n",
    "\n",
    "w1 = 1\n",
    "w2 = 1"
   ]
  },
  {
   "cell_type": "code",
   "execution_count": 159,
   "id": "9dd2aad0",
   "metadata": {},
   "outputs": [],
   "source": [
    "B = w1*np.outer(v1_B, v1_N.T) + w2*np.outer(v2_B, v2_N.T)\n",
    "sigma = np.trace(B)\n",
    "\n",
    "S = B + B.T\n",
    "S_K = S - sigma*np.eye(3)\n",
    "\n",
    "Z = np.array([B[1][2] - B[2][1], B[2][0] - B[0][2], B[0][1] - B[1][0]])\n",
    "Ztrans = Z.T\n",
    "\n",
    "K = np.array([[sigma, Ztrans[0], Ztrans[1], Ztrans[2]],\n",
    "             [Z[0], S_K[0][0], S_K[0][1], S_K[0][2]],\n",
    "             [Z[1], S_K[1][0], S_K[1][1], S_K[1][2]],\n",
    "             [Z[2], S_K[2][0], S_K[2][1], S_K[2][2]]])"
   ]
  },
  {
   "cell_type": "code",
   "execution_count": 164,
   "id": "5d3ae123",
   "metadata": {},
   "outputs": [
    {
     "name": "stdout",
     "output_type": "stream",
     "text": [
      "[[ 0.81021874  0.48182174 -0.33375652]\n",
      " [-0.55131267  0.8197999  -0.15486273]\n",
      " [ 0.19899733  0.30947688  0.92985167]]\n"
     ]
    }
   ],
   "source": [
    "eigvals, eigvecs = np.linalg.eig(K)\n",
    "\n",
    "target = np.argmax(eigvals)\n",
    "\n",
    "beta = eigvecs[:, target]\n",
    "\n",
    "if beta[0] < 0:\n",
    "    beta[0] *= -1\n",
    "\n",
    "BNbar_qmethod = quat2dcm(beta)\n",
    "print(BNbar_qmethod)"
   ]
  }
 ],
 "metadata": {
  "kernelspec": {
   "display_name": "Python 3 (ipykernel)",
   "language": "python",
   "name": "python3"
  },
  "language_info": {
   "codemirror_mode": {
    "name": "ipython",
    "version": 3
   },
   "file_extension": ".py",
   "mimetype": "text/x-python",
   "name": "python",
   "nbconvert_exporter": "python",
   "pygments_lexer": "ipython3",
   "version": "3.8.10"
  }
 },
 "nbformat": 4,
 "nbformat_minor": 5
}
